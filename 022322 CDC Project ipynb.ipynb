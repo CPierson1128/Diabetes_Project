{
 "cells": [
  {
   "cell_type": "markdown",
   "metadata": {},
   "source": []
  },
  {
   "cell_type": "markdown",
   "metadata": {},
   "source": [
    "# What impact does race, age, gender and change in certain medications have on average length of stay?"
   ]
  },
  {
   "cell_type": "code",
   "execution_count": 1,
   "metadata": {},
   "outputs": [
    {
     "name": "stderr",
     "output_type": "stream",
     "text": [
      "C:\\ProgramData\\Anaconda3\\lib\\site-packages\\IPython\\core\\interactiveshell.py:3063: DtypeWarning: Columns (10) have mixed types.Specify dtype option on import or set low_memory=False.\n",
      "  interactivity=interactivity, compiler=compiler, result=result)\n"
     ]
    }
   ],
   "source": [
    "import numpy as np\n",
    "import pandas as pd  \n",
    "import matplotlib.pyplot as plt\n",
    "import seaborn as sns\n",
    "%matplotlib inline\n",
    "## Previous analysis using groupby and the differnt columns showed \"null\" values of ? and Unknown/Invalid\n",
    "missing_values = [\"?\", \"Unknown/Invalid\"]\n",
    "df = pd.read_csv('https://raw.githubusercontent.com/niteen11/DataAnalyticsAcademy/master/Python/dataset_diabetes/diabetic_data.csv',\n",
    "                 na_values = missing_values)"
   ]
  },
  {
   "cell_type": "code",
   "execution_count": 2,
   "metadata": {},
   "outputs": [
    {
     "data": {
      "text/plain": [
       "(101766, 50)"
      ]
     },
     "execution_count": 2,
     "metadata": {},
     "output_type": "execute_result"
    }
   ],
   "source": [
    "df.shape"
   ]
  },
  {
   "cell_type": "code",
   "execution_count": 3,
   "metadata": {},
   "outputs": [
    {
     "data": {
      "text/plain": [
       "Index(['encounter_id', 'patient_nbr', 'race', 'gender', 'age', 'weight',\n",
       "       'admission_type_id', 'discharge_disposition_id', 'admission_source_id',\n",
       "       'time_in_hospital', 'payer_code', 'medical_specialty',\n",
       "       'num_lab_procedures', 'num_procedures', 'num_medications',\n",
       "       'number_outpatient', 'number_emergency', 'number_inpatient', 'diag_1',\n",
       "       'diag_2', 'diag_3', 'number_diagnoses', 'max_glu_serum', 'A1Cresult',\n",
       "       'metformin', 'repaglinide', 'nateglinide', 'chlorpropamide',\n",
       "       'glimepiride', 'acetohexamide', 'glipizide', 'glyburide', 'tolbutamide',\n",
       "       'pioglitazone', 'rosiglitazone', 'acarbose', 'miglitol', 'troglitazone',\n",
       "       'tolazamide', 'examide', 'citoglipton', 'insulin',\n",
       "       'glyburide-metformin', 'glipizide-metformin',\n",
       "       'glimepiride-pioglitazone', 'metformin-rosiglitazone',\n",
       "       'metformin-pioglitazone', 'change', 'diabetesMed', 'readmitted'],\n",
       "      dtype='object')"
      ]
     },
     "execution_count": 3,
     "metadata": {},
     "output_type": "execute_result"
    }
   ],
   "source": [
    "df.columns"
   ]
  },
  {
   "cell_type": "markdown",
   "metadata": {},
   "source": [
    "#### Previous Data Analysis Done using groupby to count patient number and each column in the dataset: found null values weight had a large volume of null so I decided to drop. I chose three medications to keep that had a large amount of data: metformin, glipizide, and insulin."
   ]
  },
  {
   "cell_type": "code",
   "execution_count": 4,
   "metadata": {},
   "outputs": [],
   "source": [
    "drop_cols = ['glyburide','weight','payer_code', 'num_lab_procedures', 'num_procedures', 'num_medications','diag_1','diag_2', 'diag_3', 'number_diagnoses', 'max_glu_serum', 'A1Cresult', 'repaglinide', 'nateglinide', 'chlorpropamide',\n",
    "       'glimepiride', 'acetohexamide', 'tolbutamide','pioglitazone', 'rosiglitazone', 'acarbose', 'miglitol', 'troglitazone',\n",
    "       'tolazamide', 'examide', 'citoglipton', 'glyburide-metformin', 'glipizide-metformin','glimepiride-pioglitazone', 'metformin-rosiglitazone','metformin-pioglitazone']\n",
    "df.drop(drop_cols, inplace = True, axis=1)"
   ]
  },
  {
   "cell_type": "code",
   "execution_count": 5,
   "metadata": {},
   "outputs": [
    {
     "data": {
      "text/html": [
       "<div>\n",
       "<style scoped>\n",
       "    .dataframe tbody tr th:only-of-type {\n",
       "        vertical-align: middle;\n",
       "    }\n",
       "\n",
       "    .dataframe tbody tr th {\n",
       "        vertical-align: top;\n",
       "    }\n",
       "\n",
       "    .dataframe thead th {\n",
       "        text-align: right;\n",
       "    }\n",
       "</style>\n",
       "<table border=\"1\" class=\"dataframe\">\n",
       "  <thead>\n",
       "    <tr style=\"text-align: right;\">\n",
       "      <th></th>\n",
       "      <th>encounter_id</th>\n",
       "      <th>patient_nbr</th>\n",
       "      <th>race</th>\n",
       "      <th>gender</th>\n",
       "      <th>age</th>\n",
       "      <th>admission_type_id</th>\n",
       "      <th>discharge_disposition_id</th>\n",
       "      <th>admission_source_id</th>\n",
       "      <th>time_in_hospital</th>\n",
       "      <th>medical_specialty</th>\n",
       "      <th>number_outpatient</th>\n",
       "      <th>number_emergency</th>\n",
       "      <th>number_inpatient</th>\n",
       "      <th>metformin</th>\n",
       "      <th>glipizide</th>\n",
       "      <th>insulin</th>\n",
       "      <th>change</th>\n",
       "      <th>diabetesMed</th>\n",
       "      <th>readmitted</th>\n",
       "    </tr>\n",
       "  </thead>\n",
       "  <tbody>\n",
       "    <tr>\n",
       "      <th>101761</th>\n",
       "      <td>443847548</td>\n",
       "      <td>100162476</td>\n",
       "      <td>AfricanAmerican</td>\n",
       "      <td>Male</td>\n",
       "      <td>[70-80)</td>\n",
       "      <td>1</td>\n",
       "      <td>3</td>\n",
       "      <td>7</td>\n",
       "      <td>3</td>\n",
       "      <td>NaN</td>\n",
       "      <td>0</td>\n",
       "      <td>0</td>\n",
       "      <td>0</td>\n",
       "      <td>Steady</td>\n",
       "      <td>No</td>\n",
       "      <td>Down</td>\n",
       "      <td>Ch</td>\n",
       "      <td>Yes</td>\n",
       "      <td>&gt;30</td>\n",
       "    </tr>\n",
       "    <tr>\n",
       "      <th>101762</th>\n",
       "      <td>443847782</td>\n",
       "      <td>74694222</td>\n",
       "      <td>AfricanAmerican</td>\n",
       "      <td>Female</td>\n",
       "      <td>[80-90)</td>\n",
       "      <td>1</td>\n",
       "      <td>4</td>\n",
       "      <td>5</td>\n",
       "      <td>5</td>\n",
       "      <td>NaN</td>\n",
       "      <td>0</td>\n",
       "      <td>0</td>\n",
       "      <td>1</td>\n",
       "      <td>No</td>\n",
       "      <td>No</td>\n",
       "      <td>Steady</td>\n",
       "      <td>No</td>\n",
       "      <td>Yes</td>\n",
       "      <td>NO</td>\n",
       "    </tr>\n",
       "    <tr>\n",
       "      <th>101763</th>\n",
       "      <td>443854148</td>\n",
       "      <td>41088789</td>\n",
       "      <td>Caucasian</td>\n",
       "      <td>Male</td>\n",
       "      <td>[70-80)</td>\n",
       "      <td>1</td>\n",
       "      <td>1</td>\n",
       "      <td>7</td>\n",
       "      <td>1</td>\n",
       "      <td>NaN</td>\n",
       "      <td>1</td>\n",
       "      <td>0</td>\n",
       "      <td>0</td>\n",
       "      <td>Steady</td>\n",
       "      <td>No</td>\n",
       "      <td>Down</td>\n",
       "      <td>Ch</td>\n",
       "      <td>Yes</td>\n",
       "      <td>NO</td>\n",
       "    </tr>\n",
       "    <tr>\n",
       "      <th>101764</th>\n",
       "      <td>443857166</td>\n",
       "      <td>31693671</td>\n",
       "      <td>Caucasian</td>\n",
       "      <td>Female</td>\n",
       "      <td>[80-90)</td>\n",
       "      <td>2</td>\n",
       "      <td>3</td>\n",
       "      <td>7</td>\n",
       "      <td>10</td>\n",
       "      <td>Surgery-General</td>\n",
       "      <td>0</td>\n",
       "      <td>0</td>\n",
       "      <td>1</td>\n",
       "      <td>No</td>\n",
       "      <td>Steady</td>\n",
       "      <td>Up</td>\n",
       "      <td>Ch</td>\n",
       "      <td>Yes</td>\n",
       "      <td>NO</td>\n",
       "    </tr>\n",
       "    <tr>\n",
       "      <th>101765</th>\n",
       "      <td>443867222</td>\n",
       "      <td>175429310</td>\n",
       "      <td>Caucasian</td>\n",
       "      <td>Male</td>\n",
       "      <td>[70-80)</td>\n",
       "      <td>1</td>\n",
       "      <td>1</td>\n",
       "      <td>7</td>\n",
       "      <td>6</td>\n",
       "      <td>NaN</td>\n",
       "      <td>0</td>\n",
       "      <td>0</td>\n",
       "      <td>0</td>\n",
       "      <td>No</td>\n",
       "      <td>No</td>\n",
       "      <td>No</td>\n",
       "      <td>No</td>\n",
       "      <td>No</td>\n",
       "      <td>NO</td>\n",
       "    </tr>\n",
       "  </tbody>\n",
       "</table>\n",
       "</div>"
      ],
      "text/plain": [
       "        encounter_id  patient_nbr             race  gender      age  \\\n",
       "101761     443847548    100162476  AfricanAmerican    Male  [70-80)   \n",
       "101762     443847782     74694222  AfricanAmerican  Female  [80-90)   \n",
       "101763     443854148     41088789        Caucasian    Male  [70-80)   \n",
       "101764     443857166     31693671        Caucasian  Female  [80-90)   \n",
       "101765     443867222    175429310        Caucasian    Male  [70-80)   \n",
       "\n",
       "        admission_type_id  discharge_disposition_id  admission_source_id  \\\n",
       "101761                  1                         3                    7   \n",
       "101762                  1                         4                    5   \n",
       "101763                  1                         1                    7   \n",
       "101764                  2                         3                    7   \n",
       "101765                  1                         1                    7   \n",
       "\n",
       "        time_in_hospital medical_specialty  number_outpatient  \\\n",
       "101761                 3               NaN                  0   \n",
       "101762                 5               NaN                  0   \n",
       "101763                 1               NaN                  1   \n",
       "101764                10   Surgery-General                  0   \n",
       "101765                 6               NaN                  0   \n",
       "\n",
       "        number_emergency  number_inpatient metformin glipizide insulin change  \\\n",
       "101761                 0                 0    Steady        No    Down     Ch   \n",
       "101762                 0                 1        No        No  Steady     No   \n",
       "101763                 0                 0    Steady        No    Down     Ch   \n",
       "101764                 0                 1        No    Steady      Up     Ch   \n",
       "101765                 0                 0        No        No      No     No   \n",
       "\n",
       "       diabetesMed readmitted  \n",
       "101761         Yes        >30  \n",
       "101762         Yes         NO  \n",
       "101763         Yes         NO  \n",
       "101764         Yes         NO  \n",
       "101765          No         NO  "
      ]
     },
     "execution_count": 5,
     "metadata": {},
     "output_type": "execute_result"
    }
   ],
   "source": [
    "df.tail()"
   ]
  },
  {
   "cell_type": "code",
   "execution_count": 6,
   "metadata": {},
   "outputs": [
    {
     "data": {
      "text/plain": [
       "encounter_id                    0\n",
       "patient_nbr                     0\n",
       "race                         2273\n",
       "gender                          3\n",
       "age                             0\n",
       "admission_type_id               0\n",
       "discharge_disposition_id        0\n",
       "admission_source_id             0\n",
       "time_in_hospital                0\n",
       "medical_specialty           49949\n",
       "number_outpatient               0\n",
       "number_emergency                0\n",
       "number_inpatient                0\n",
       "metformin                       0\n",
       "glipizide                       0\n",
       "insulin                         0\n",
       "change                          0\n",
       "diabetesMed                     0\n",
       "readmitted                      0\n",
       "dtype: int64"
      ]
     },
     "execution_count": 6,
     "metadata": {},
     "output_type": "execute_result"
    }
   ],
   "source": [
    "df.isnull().sum()"
   ]
  },
  {
   "cell_type": "code",
   "execution_count": 7,
   "metadata": {},
   "outputs": [
    {
     "data": {
      "text/plain": [
       "(99493, 19)"
      ]
     },
     "execution_count": 7,
     "metadata": {},
     "output_type": "execute_result"
    }
   ],
   "source": [
    "## removing rows with no value in race\n",
    "df_clean = df.dropna(subset=['race'])\n",
    "df_clean.shape"
   ]
  },
  {
   "cell_type": "code",
   "execution_count": 8,
   "metadata": {},
   "outputs": [
    {
     "name": "stderr",
     "output_type": "stream",
     "text": [
      "C:\\ProgramData\\Anaconda3\\lib\\site-packages\\ipykernel_launcher.py:10: SettingWithCopyWarning: \n",
      "A value is trying to be set on a copy of a slice from a DataFrame.\n",
      "Try using .loc[row_indexer,col_indexer] = value instead\n",
      "\n",
      "See the caveats in the documentation: https://pandas.pydata.org/pandas-docs/stable/user_guide/indexing.html#returning-a-view-versus-a-copy\n",
      "  # Remove the CWD from sys.path while we load stuff.\n"
     ]
    }
   ],
   "source": [
    "## adding column to define length of stay as short (1-3), medium (4-7) and long (8+)\n",
    "def stay_length(row):\n",
    "    if row['time_in_hospital'] <= 3:\n",
    "        return 'short'\n",
    "    elif row['time_in_hospital'] > 3 and row['time_in_hospital'] <= 7:\n",
    "        return 'medium'\n",
    "    else:\n",
    "        return 'long'\n",
    "\n",
    "df_clean['Stay_Length'] = df_clean.apply(lambda row: stay_length(row), axis=1)"
   ]
  },
  {
   "cell_type": "code",
   "execution_count": 9,
   "metadata": {},
   "outputs": [
    {
     "data": {
      "text/plain": [
       "Index(['encounter_id', 'patient_nbr', 'race', 'gender', 'age',\n",
       "       'admission_type_id', 'discharge_disposition_id', 'admission_source_id',\n",
       "       'time_in_hospital', 'medical_specialty', 'number_outpatient',\n",
       "       'number_emergency', 'number_inpatient', 'metformin', 'glipizide',\n",
       "       'insulin', 'change', 'diabetesMed', 'readmitted', 'Stay_Length'],\n",
       "      dtype='object')"
      ]
     },
     "execution_count": 9,
     "metadata": {},
     "output_type": "execute_result"
    }
   ],
   "source": [
    "df_clean.columns"
   ]
  },
  {
   "cell_type": "markdown",
   "metadata": {},
   "source": [
    "#### I only want to keep one patient entry per stay so I am making an assumption that if it is the same patient number and length of stay it is the same stay and kept one entry."
   ]
  },
  {
   "cell_type": "code",
   "execution_count": 10,
   "metadata": {},
   "outputs": [
    {
     "name": "stderr",
     "output_type": "stream",
     "text": [
      "C:\\ProgramData\\Anaconda3\\lib\\site-packages\\ipykernel_launcher.py:1: SettingWithCopyWarning: \n",
      "A value is trying to be set on a copy of a slice from a DataFrame\n",
      "\n",
      "See the caveats in the documentation: https://pandas.pydata.org/pandas-docs/stable/user_guide/indexing.html#returning-a-view-versus-a-copy\n",
      "  \"\"\"Entry point for launching an IPython kernel.\n"
     ]
    }
   ],
   "source": [
    "df_clean.drop_duplicates(subset=['patient_nbr', 'time_in_hospital'], keep='first', inplace=True)"
   ]
  },
  {
   "cell_type": "code",
   "execution_count": 11,
   "metadata": {},
   "outputs": [
    {
     "data": {
      "text/plain": [
       "(92297, 20)"
      ]
     },
     "execution_count": 11,
     "metadata": {},
     "output_type": "execute_result"
    }
   ],
   "source": [
    "df_clean.shape"
   ]
  },
  {
   "cell_type": "code",
   "execution_count": 12,
   "metadata": {},
   "outputs": [
    {
     "data": {
      "text/plain": [
       "gender\n",
       "Female    4.542482\n",
       "Male      4.374470\n",
       "Name: time_in_hospital, dtype: float64"
      ]
     },
     "execution_count": 12,
     "metadata": {},
     "output_type": "execute_result"
    }
   ],
   "source": [
    "df_clean.groupby(['gender'])['time_in_hospital'].mean()"
   ]
  },
  {
   "cell_type": "markdown",
   "metadata": {},
   "source": [
    "### There is not a significant difference in average length of stay between men and women"
   ]
  },
  {
   "cell_type": "code",
   "execution_count": 13,
   "metadata": {},
   "outputs": [
    {
     "data": {
      "text/plain": [
       "gender\n",
       "Female    49633\n",
       "Male      42663\n",
       "Name: time_in_hospital, dtype: int64"
      ]
     },
     "execution_count": 13,
     "metadata": {},
     "output_type": "execute_result"
    }
   ],
   "source": [
    "df_clean.groupby(['gender'])['time_in_hospital'].count()"
   ]
  },
  {
   "cell_type": "markdown",
   "metadata": {},
   "source": [
    "### More women than men were hospitalized "
   ]
  },
  {
   "cell_type": "code",
   "execution_count": 14,
   "metadata": {},
   "outputs": [
    {
     "data": {
      "text/plain": [
       "race\n",
       "AfricanAmerican    4.574104\n",
       "Asian              3.983471\n",
       "Caucasian          4.453679\n",
       "Hispanic           4.124803\n",
       "Other              4.320084\n",
       "Name: time_in_hospital, dtype: float64"
      ]
     },
     "execution_count": 14,
     "metadata": {},
     "output_type": "execute_result"
    }
   ],
   "source": [
    "df_clean.groupby(['race'])['time_in_hospital'].mean()"
   ]
  },
  {
   "cell_type": "markdown",
   "metadata": {},
   "source": [
    "### Asians had the shortest average stay and African Americans had the highest average stay "
   ]
  },
  {
   "cell_type": "markdown",
   "metadata": {},
   "source": [
    "#### Visualizations by race"
   ]
  },
  {
   "cell_type": "code",
   "execution_count": 15,
   "metadata": {},
   "outputs": [
    {
     "data": {
      "text/plain": [
       "<matplotlib.axes._subplots.AxesSubplot at 0x9571110>"
      ]
     },
     "execution_count": 15,
     "metadata": {},
     "output_type": "execute_result"
    },
    {
     "data": {
      "image/png": "[encoded data removed]",
      "text/plain": [
       "<Figure size 432x288 with 1 Axes>"
      ]
     },
     "metadata": {
      "needs_background": "light"
     },
     "output_type": "display_data"
    }
   ],
   "source": [
    "sns.boxplot(x='race',y='time_in_hospital',data=df_clean)"
   ]
  },
  {
   "cell_type": "code",
   "execution_count": 16,
   "metadata": {},
   "outputs": [
    {
     "data": {
      "text/plain": [
       "Text(0, 0.5, 'Mean Days Stayed')"
      ]
     },
     "execution_count": 16,
     "metadata": {},
     "output_type": "execute_result"
    },
    {
     "data": {
      "image/png": "[encoded data removed]",
      "text/plain": [
       "<Figure size 720x432 with 1 Axes>"
      ]
     },
     "metadata": {
      "needs_background": "light"
     },
     "output_type": "display_data"
    }
   ],
   "source": [
    "length_of_stay_by_race = df_clean.groupby('race')['time_in_hospital'].mean()\n",
    "\n",
    "ax = length_of_stay_by_race.plot(kind='bar', figsize=(10,6), fontsize=13)\n",
    "ax.set_alpha(0.8)\n",
    "ax.set_title(\"Mean days of stay by race\")\n",
    "ax.set_ylabel(\"Mean Days Stayed\", fontsize=15)"
   ]
  },
  {
   "cell_type": "code",
   "execution_count": 17,
   "metadata": {},
   "outputs": [
    {
     "data": {
      "text/plain": [
       "race\n",
       "AfricanAmerican    17671\n",
       "Asian                605\n",
       "Caucasian          70680\n",
       "Hispanic            1907\n",
       "Other               1434\n",
       "Name: time_in_hospital, dtype: int64"
      ]
     },
     "execution_count": 17,
     "metadata": {},
     "output_type": "execute_result"
    }
   ],
   "source": [
    "df_clean.groupby(['race'])['time_in_hospital'].count()"
   ]
  },
  {
   "cell_type": "code",
   "execution_count": 18,
   "metadata": {},
   "outputs": [
    {
     "data": {
      "text/plain": [
       "<matplotlib.axes._subplots.AxesSubplot at 0xad621f0>"
      ]
     },
     "execution_count": 18,
     "metadata": {},
     "output_type": "execute_result"
    },
    {
     "data": {
      "image/png": "[encoded data removed]",
      "text/plain": [
       "<Figure size 432x288 with 1 Axes>"
      ]
     },
     "metadata": {
      "needs_background": "light"
     },
     "output_type": "display_data"
    }
   ],
   "source": [
    "sns.countplot(x=\"race\",data=df_clean,palette=\"Greens_d\")"
   ]
  },
  {
   "cell_type": "markdown",
   "metadata": {},
   "source": [
    "### Caucasians had a significantly greater amount of patients hospitalized "
   ]
  },
  {
   "cell_type": "code",
   "execution_count": 19,
   "metadata": {},
   "outputs": [
    {
     "data": {
      "text/plain": [
       "age\n",
       "[0-10)        158\n",
       "[10-20)       626\n",
       "[20-30)      1391\n",
       "[30-40)      3365\n",
       "[40-50)      8681\n",
       "[50-60)     15745\n",
       "[60-70)     20454\n",
       "[70-80)     23738\n",
       "[80-90)     15611\n",
       "[90-100)     2528\n",
       "Name: time_in_hospital, dtype: int64"
      ]
     },
     "execution_count": 19,
     "metadata": {},
     "output_type": "execute_result"
    }
   ],
   "source": [
    "df_clean.groupby(['age'])['time_in_hospital'].count()"
   ]
  },
  {
   "cell_type": "code",
   "execution_count": 20,
   "metadata": {},
   "outputs": [
    {
     "data": {
      "text/plain": [
       "<matplotlib.axes._subplots.AxesSubplot at 0xa5e31d0>"
      ]
     },
     "execution_count": 20,
     "metadata": {},
     "output_type": "execute_result"
    },
    {
     "data": {
      "image/png": "[encoded data removed]",
      "text/plain": [
       "<Figure size 432x288 with 1 Axes>"
      ]
     },
     "metadata": {
      "needs_background": "light"
     },
     "output_type": "display_data"
    }
   ],
   "source": [
    "sns.boxplot(x='age',y='time_in_hospital',data=df_clean)"
   ]
  },
  {
   "cell_type": "code",
   "execution_count": 21,
   "metadata": {},
   "outputs": [
    {
     "data": {
      "text/plain": [
       "age\n",
       "[0-10)      2.569620\n",
       "[10-20)     3.175719\n",
       "[20-30)     3.674335\n",
       "[30-40)     3.854978\n",
       "[40-50)     4.095841\n",
       "[50-60)     4.184567\n",
       "[60-70)     4.450719\n",
       "[70-80)     4.665515\n",
       "[80-90)     4.880469\n",
       "[90-100)    4.823180\n",
       "Name: time_in_hospital, dtype: float64"
      ]
     },
     "execution_count": 21,
     "metadata": {},
     "output_type": "execute_result"
    }
   ],
   "source": [
    "df_clean.groupby(['age'])['time_in_hospital'].mean()"
   ]
  },
  {
   "cell_type": "markdown",
   "metadata": {},
   "source": [
    "### Average length of stay increases with age until it dips slightly after 90 but the largest amount of patients are between 70 - 80."
   ]
  },
  {
   "cell_type": "code",
   "execution_count": 22,
   "metadata": {},
   "outputs": [
    {
     "name": "stdout",
     "output_type": "stream",
     "text": [
      "age       race           \n",
      "[0-10)    AfricanAmerican       16\n",
      "          Asian                  2\n",
      "          Caucasian            134\n",
      "          Hispanic               2\n",
      "          Other                  4\n",
      "[10-20)   AfricanAmerican      185\n",
      "          Asian                  2\n",
      "          Caucasian            408\n",
      "          Hispanic              22\n",
      "          Other                  9\n",
      "[20-30)   AfricanAmerican      492\n",
      "          Asian                  6\n",
      "          Caucasian            808\n",
      "          Hispanic              61\n",
      "          Other                 24\n",
      "[30-40)   AfricanAmerican     1109\n",
      "          Asian                 14\n",
      "          Caucasian           2002\n",
      "          Hispanic             164\n",
      "          Other                 76\n",
      "[40-50)   AfricanAmerican     2511\n",
      "          Asian                 50\n",
      "          Caucasian           5666\n",
      "          Hispanic             304\n",
      "          Other                150\n",
      "[50-60)   AfricanAmerican     3902\n",
      "          Asian                115\n",
      "          Caucasian          11043\n",
      "          Hispanic             387\n",
      "          Other                298\n",
      "[60-70)   AfricanAmerican     3913\n",
      "          Asian                151\n",
      "          Caucasian          15542\n",
      "          Hispanic             452\n",
      "          Other                396\n",
      "[70-80)   AfricanAmerican     3530\n",
      "          Asian                172\n",
      "          Caucasian          19358\n",
      "          Hispanic             366\n",
      "          Other                312\n",
      "[80-90)   AfricanAmerican     1690\n",
      "          Asian                 82\n",
      "          Caucasian          13563\n",
      "          Hispanic             133\n",
      "          Other                143\n",
      "[90-100)  AfricanAmerican      323\n",
      "          Asian                 11\n",
      "          Caucasian           2156\n",
      "          Hispanic              16\n",
      "          Other                 22\n",
      "Name: patient_nbr, dtype: int64\n"
     ]
    }
   ],
   "source": [
    "grouped_df = df_clean.groupby(['age','race'])['patient_nbr'].count()\n",
    "print(grouped_df)"
   ]
  },
  {
   "cell_type": "code",
   "execution_count": 23,
   "metadata": {},
   "outputs": [
    {
     "data": {
      "text/plain": [
       "metformin\n",
       "Down      5.100746\n",
       "No        4.477592\n",
       "Steady    4.330581\n",
       "Up        5.437437\n",
       "Name: time_in_hospital, dtype: float64"
      ]
     },
     "execution_count": 23,
     "metadata": {},
     "output_type": "execute_result"
    }
   ],
   "source": [
    "df_clean.groupby(['metformin'])['time_in_hospital'].mean()"
   ]
  },
  {
   "cell_type": "code",
   "execution_count": 24,
   "metadata": {},
   "outputs": [
    {
     "name": "stdout",
     "output_type": "stream",
     "text": [
      "metformin  Stay_Length\n",
      "Down       long             104\n",
      "           medium           237\n",
      "           short            195\n",
      "No         long           11837\n",
      "           medium         27032\n",
      "           short          35056\n",
      "Steady     long            2365\n",
      "           medium          6234\n",
      "           short           8238\n",
      "Up         long             227\n",
      "           medium           465\n",
      "           short            307\n",
      "Name: patient_nbr, dtype: int64\n"
     ]
    }
   ],
   "source": [
    "grouped_df = df_clean.groupby(['metformin','Stay_Length'])['patient_nbr'].count()\n",
    "print(grouped_df)"
   ]
  },
  {
   "cell_type": "code",
   "execution_count": 25,
   "metadata": {},
   "outputs": [
    {
     "data": {
      "text/plain": [
       "<matplotlib.legend.Legend at 0x95bb030>"
      ]
     },
     "execution_count": 25,
     "metadata": {},
     "output_type": "execute_result"
    },
    {
     "data": {
      "image/png": "[encoded data removed]",
      "text/plain": [
       "<Figure size 432x288 with 1 Axes>"
      ]
     },
     "metadata": {
      "needs_background": "light"
     },
     "output_type": "display_data"
    }
   ],
   "source": [
    "sns.boxplot(x='metformin',y='time_in_hospital',hue='race',data=df_clean)\n",
    "plt.legend(bbox_to_anchor=(1.01, 1),\n",
    "           borderaxespad=0)"
   ]
  },
  {
   "cell_type": "code",
   "execution_count": 26,
   "metadata": {},
   "outputs": [
    {
     "data": {
      "text/plain": [
       "<matplotlib.legend.Legend at 0xaf2cfd0>"
      ]
     },
     "execution_count": 26,
     "metadata": {},
     "output_type": "execute_result"
    },
    {
     "data": {
      "image/png": "[encoded data removed]",
      "text/plain": [
       "<Figure size 432x288 with 1 Axes>"
      ]
     },
     "metadata": {
      "needs_background": "light"
     },
     "output_type": "display_data"
    }
   ],
   "source": [
    "sns.boxplot(x='metformin',y='time_in_hospital',hue='gender',data=df_clean)\n",
    "plt.legend(bbox_to_anchor=(1.01, 1),\n",
    "           borderaxespad=0)"
   ]
  },
  {
   "cell_type": "markdown",
   "metadata": {},
   "source": [
    "### There doesn't seem to be a significant increase or decrease in length of stay when metformin is used "
   ]
  },
  {
   "cell_type": "code",
   "execution_count": 27,
   "metadata": {},
   "outputs": [
    {
     "data": {
      "text/plain": [
       "glipizide\n",
       "Down      5.942529\n",
       "No        4.446398\n",
       "Steady    4.410504\n",
       "Up        6.234722\n",
       "Name: time_in_hospital, dtype: float64"
      ]
     },
     "execution_count": 27,
     "metadata": {},
     "output_type": "execute_result"
    }
   ],
   "source": [
    "df_clean.groupby(['glipizide'])['time_in_hospital'].mean()"
   ]
  },
  {
   "cell_type": "code",
   "execution_count": 28,
   "metadata": {},
   "outputs": [
    {
     "name": "stdout",
     "output_type": "stream",
     "text": [
      "glipizide  Stay_Length\n",
      "Down       long             157\n",
      "           medium           220\n",
      "           short            145\n",
      "No         long           12604\n",
      "           medium         29513\n",
      "           short          38580\n",
      "Steady     long            1534\n",
      "           medium          3917\n",
      "           short           4907\n",
      "Up         long             238\n",
      "           medium           318\n",
      "           short            164\n",
      "Name: patient_nbr, dtype: int64\n"
     ]
    }
   ],
   "source": [
    "grouped_df = df_clean.groupby(['glipizide','Stay_Length'])['patient_nbr'].count()\n",
    "print(grouped_df)"
   ]
  },
  {
   "cell_type": "code",
   "execution_count": 29,
   "metadata": {},
   "outputs": [
    {
     "data": {
      "text/plain": [
       "<matplotlib.legend.Legend at 0xa663410>"
      ]
     },
     "execution_count": 29,
     "metadata": {},
     "output_type": "execute_result"
    },
    {
     "data": {
      "image/png": "[encoded data removed]",
      "text/plain": [
       "<Figure size 432x288 with 1 Axes>"
      ]
     },
     "metadata": {
      "needs_background": "light"
     },
     "output_type": "display_data"
    }
   ],
   "source": [
    "sns.boxplot(x='glipizide',y='time_in_hospital',hue='race',data=df_clean)\n",
    "plt.legend(bbox_to_anchor=(1.01, 1),\n",
    "           borderaxespad=0)"
   ]
  },
  {
   "cell_type": "code",
   "execution_count": 30,
   "metadata": {},
   "outputs": [
    {
     "data": {
      "text/plain": [
       "<matplotlib.legend.Legend at 0xaf33550>"
      ]
     },
     "execution_count": 30,
     "metadata": {},
     "output_type": "execute_result"
    },
    {
     "data": {
      "image/png": "[encoded data removed]",
      "text/plain": [
       "<Figure size 432x288 with 1 Axes>"
      ]
     },
     "metadata": {
      "needs_background": "light"
     },
     "output_type": "display_data"
    }
   ],
   "source": [
    "sns.boxplot(x='glipizide',y='time_in_hospital',hue='gender',data=df_clean)\n",
    "plt.legend(bbox_to_anchor=(1.01, 1),\n",
    "           borderaxespad=0)"
   ]
  },
  {
   "cell_type": "markdown",
   "metadata": {},
   "source": [
    "### A change in glipizide medication either up or down seems to be correlated with a longer length of stay"
   ]
  },
  {
   "cell_type": "code",
   "execution_count": 31,
   "metadata": {},
   "outputs": [
    {
     "data": {
      "text/plain": [
       "insulin\n",
       "Down      5.044860\n",
       "No        4.124196\n",
       "Steady    4.433696\n",
       "Up        5.400179\n",
       "Name: time_in_hospital, dtype: float64"
      ]
     },
     "execution_count": 31,
     "metadata": {},
     "output_type": "execute_result"
    }
   ],
   "source": [
    "df_clean.groupby(['insulin'])['time_in_hospital'].mean()"
   ]
  },
  {
   "cell_type": "code",
   "execution_count": 32,
   "metadata": {},
   "outputs": [
    {
     "name": "stdout",
     "output_type": "stream",
     "text": [
      "insulin  Stay_Length\n",
      "Down     long            2255\n",
      "         medium          4304\n",
      "         short           4297\n",
      "No       long            5661\n",
      "         medium         15025\n",
      "         short          22858\n",
      "Steady   long            4214\n",
      "         medium         10427\n",
      "         short          13208\n",
      "Up       long            2403\n",
      "         medium          4212\n",
      "         short           3433\n",
      "Name: patient_nbr, dtype: int64\n"
     ]
    }
   ],
   "source": [
    "grouped_df = df_clean.groupby(['insulin','Stay_Length'])['patient_nbr'].count()\n",
    "print(grouped_df)"
   ]
  },
  {
   "cell_type": "code",
   "execution_count": 33,
   "metadata": {},
   "outputs": [
    {
     "data": {
      "text/plain": [
       "<matplotlib.legend.Legend at 0xb664af0>"
      ]
     },
     "execution_count": 33,
     "metadata": {},
     "output_type": "execute_result"
    },
    {
     "data": {
      "image/png": "[encoded data removed]",
      "text/plain": [
       "<Figure size 432x288 with 1 Axes>"
      ]
     },
     "metadata": {
      "needs_background": "light"
     },
     "output_type": "display_data"
    }
   ],
   "source": [
    "sns.boxplot(x='insulin',y='time_in_hospital',hue='race',data=df_clean)\n",
    "plt.legend(bbox_to_anchor=(1.01, 1),\n",
    "           borderaxespad=0)"
   ]
  },
  {
   "cell_type": "code",
   "execution_count": 34,
   "metadata": {},
   "outputs": [
    {
     "data": {
      "text/plain": [
       "<matplotlib.legend.Legend at 0xb85cb50>"
      ]
     },
     "execution_count": 34,
     "metadata": {},
     "output_type": "execute_result"
    },
    {
     "data": {
      "image/png": "[encoded data removed]",
      "text/plain": [
       "<Figure size 432x288 with 1 Axes>"
      ]
     },
     "metadata": {
      "needs_background": "light"
     },
     "output_type": "display_data"
    }
   ],
   "source": [
    "sns.boxplot(x='insulin',y='time_in_hospital',hue='gender',data=df_clean)\n",
    "plt.legend(bbox_to_anchor=(1.01, 1),\n",
    "           borderaxespad=0)"
   ]
  },
  {
   "cell_type": "markdown",
   "metadata": {},
   "source": [
    "### Similar to glipizide it looks like a change in either direction of insulin results in a longer average length of stay "
   ]
  },
  {
   "cell_type": "markdown",
   "metadata": {},
   "source": [
    "## Next, I looked more closely at each race to see if there were significant differences "
   ]
  },
  {
   "cell_type": "code",
   "execution_count": 35,
   "metadata": {},
   "outputs": [
    {
     "data": {
      "text/html": [
       "<div>\n",
       "<style scoped>\n",
       "    .dataframe tbody tr th:only-of-type {\n",
       "        vertical-align: middle;\n",
       "    }\n",
       "\n",
       "    .dataframe tbody tr th {\n",
       "        vertical-align: top;\n",
       "    }\n",
       "\n",
       "    .dataframe thead th {\n",
       "        text-align: right;\n",
       "    }\n",
       "</style>\n",
       "<table border=\"1\" class=\"dataframe\">\n",
       "  <thead>\n",
       "    <tr style=\"text-align: right;\">\n",
       "      <th></th>\n",
       "      <th>encounter_id</th>\n",
       "      <th>patient_nbr</th>\n",
       "      <th>race</th>\n",
       "      <th>gender</th>\n",
       "      <th>age</th>\n",
       "      <th>admission_type_id</th>\n",
       "      <th>discharge_disposition_id</th>\n",
       "      <th>admission_source_id</th>\n",
       "      <th>time_in_hospital</th>\n",
       "      <th>medical_specialty</th>\n",
       "      <th>number_outpatient</th>\n",
       "      <th>number_emergency</th>\n",
       "      <th>number_inpatient</th>\n",
       "      <th>metformin</th>\n",
       "      <th>glipizide</th>\n",
       "      <th>insulin</th>\n",
       "      <th>change</th>\n",
       "      <th>diabetesMed</th>\n",
       "      <th>readmitted</th>\n",
       "      <th>Stay_Length</th>\n",
       "    </tr>\n",
       "  </thead>\n",
       "  <tbody>\n",
       "    <tr>\n",
       "      <th>101535</th>\n",
       "      <td>440774228</td>\n",
       "      <td>114098976</td>\n",
       "      <td>Hispanic</td>\n",
       "      <td>Female</td>\n",
       "      <td>[40-50)</td>\n",
       "      <td>1</td>\n",
       "      <td>1</td>\n",
       "      <td>7</td>\n",
       "      <td>6</td>\n",
       "      <td>NaN</td>\n",
       "      <td>0</td>\n",
       "      <td>0</td>\n",
       "      <td>0</td>\n",
       "      <td>Steady</td>\n",
       "      <td>No</td>\n",
       "      <td>Steady</td>\n",
       "      <td>Ch</td>\n",
       "      <td>Yes</td>\n",
       "      <td>&lt;30</td>\n",
       "      <td>medium</td>\n",
       "    </tr>\n",
       "    <tr>\n",
       "      <th>101548</th>\n",
       "      <td>440836292</td>\n",
       "      <td>122665721</td>\n",
       "      <td>Hispanic</td>\n",
       "      <td>Female</td>\n",
       "      <td>[80-90)</td>\n",
       "      <td>1</td>\n",
       "      <td>3</td>\n",
       "      <td>7</td>\n",
       "      <td>13</td>\n",
       "      <td>NaN</td>\n",
       "      <td>0</td>\n",
       "      <td>0</td>\n",
       "      <td>0</td>\n",
       "      <td>Steady</td>\n",
       "      <td>No</td>\n",
       "      <td>Up</td>\n",
       "      <td>Ch</td>\n",
       "      <td>Yes</td>\n",
       "      <td>NO</td>\n",
       "      <td>long</td>\n",
       "    </tr>\n",
       "    <tr>\n",
       "      <th>101663</th>\n",
       "      <td>442569986</td>\n",
       "      <td>146138783</td>\n",
       "      <td>Hispanic</td>\n",
       "      <td>Female</td>\n",
       "      <td>[50-60)</td>\n",
       "      <td>1</td>\n",
       "      <td>1</td>\n",
       "      <td>7</td>\n",
       "      <td>3</td>\n",
       "      <td>NaN</td>\n",
       "      <td>0</td>\n",
       "      <td>0</td>\n",
       "      <td>0</td>\n",
       "      <td>Steady</td>\n",
       "      <td>Steady</td>\n",
       "      <td>Steady</td>\n",
       "      <td>Ch</td>\n",
       "      <td>Yes</td>\n",
       "      <td>NO</td>\n",
       "      <td>short</td>\n",
       "    </tr>\n",
       "    <tr>\n",
       "      <th>101684</th>\n",
       "      <td>442687934</td>\n",
       "      <td>31352391</td>\n",
       "      <td>Hispanic</td>\n",
       "      <td>Male</td>\n",
       "      <td>[30-40)</td>\n",
       "      <td>1</td>\n",
       "      <td>1</td>\n",
       "      <td>7</td>\n",
       "      <td>9</td>\n",
       "      <td>Family/GeneralPractice</td>\n",
       "      <td>0</td>\n",
       "      <td>0</td>\n",
       "      <td>0</td>\n",
       "      <td>No</td>\n",
       "      <td>No</td>\n",
       "      <td>Steady</td>\n",
       "      <td>No</td>\n",
       "      <td>Yes</td>\n",
       "      <td>NO</td>\n",
       "      <td>long</td>\n",
       "    </tr>\n",
       "    <tr>\n",
       "      <th>101726</th>\n",
       "      <td>443700206</td>\n",
       "      <td>60201405</td>\n",
       "      <td>Hispanic</td>\n",
       "      <td>Male</td>\n",
       "      <td>[30-40)</td>\n",
       "      <td>3</td>\n",
       "      <td>3</td>\n",
       "      <td>1</td>\n",
       "      <td>5</td>\n",
       "      <td>NaN</td>\n",
       "      <td>0</td>\n",
       "      <td>0</td>\n",
       "      <td>0</td>\n",
       "      <td>Steady</td>\n",
       "      <td>No</td>\n",
       "      <td>No</td>\n",
       "      <td>Ch</td>\n",
       "      <td>Yes</td>\n",
       "      <td>NO</td>\n",
       "      <td>medium</td>\n",
       "    </tr>\n",
       "  </tbody>\n",
       "</table>\n",
       "</div>"
      ],
      "text/plain": [
       "        encounter_id  patient_nbr      race  gender      age  \\\n",
       "101535     440774228    114098976  Hispanic  Female  [40-50)   \n",
       "101548     440836292    122665721  Hispanic  Female  [80-90)   \n",
       "101663     442569986    146138783  Hispanic  Female  [50-60)   \n",
       "101684     442687934     31352391  Hispanic    Male  [30-40)   \n",
       "101726     443700206     60201405  Hispanic    Male  [30-40)   \n",
       "\n",
       "        admission_type_id  discharge_disposition_id  admission_source_id  \\\n",
       "101535                  1                         1                    7   \n",
       "101548                  1                         3                    7   \n",
       "101663                  1                         1                    7   \n",
       "101684                  1                         1                    7   \n",
       "101726                  3                         3                    1   \n",
       "\n",
       "        time_in_hospital       medical_specialty  number_outpatient  \\\n",
       "101535                 6                     NaN                  0   \n",
       "101548                13                     NaN                  0   \n",
       "101663                 3                     NaN                  0   \n",
       "101684                 9  Family/GeneralPractice                  0   \n",
       "101726                 5                     NaN                  0   \n",
       "\n",
       "        number_emergency  number_inpatient metformin glipizide insulin change  \\\n",
       "101535                 0                 0    Steady        No  Steady     Ch   \n",
       "101548                 0                 0    Steady        No      Up     Ch   \n",
       "101663                 0                 0    Steady    Steady  Steady     Ch   \n",
       "101684                 0                 0        No        No  Steady     No   \n",
       "101726                 0                 0    Steady        No      No     Ch   \n",
       "\n",
       "       diabetesMed readmitted Stay_Length  \n",
       "101535         Yes        <30      medium  \n",
       "101548         Yes         NO        long  \n",
       "101663         Yes         NO       short  \n",
       "101684         Yes         NO        long  \n",
       "101726         Yes         NO      medium  "
      ]
     },
     "execution_count": 35,
     "metadata": {},
     "output_type": "execute_result"
    }
   ],
   "source": [
    "df_clean_AfricanAmerican = df_clean[df_clean['race'] == 'AfricanAmerican']\n",
    "df_clean_Asian = df_clean[df_clean['race'] == 'Asian']\n",
    "df_clean_Caucasian = df_clean[df_clean['race'] == 'Caucasian']\n",
    "df_clean_Hispanic = df_clean[df_clean['race'] == 'Hispanic']\n",
    "df_clean_Hispanic.tail()"
   ]
  },
  {
   "cell_type": "code",
   "execution_count": 36,
   "metadata": {},
   "outputs": [
    {
     "data": {
      "text/plain": [
       "metformin\n",
       "Down      5.023256\n",
       "No        4.630006\n",
       "Steady    4.261564\n",
       "Up        5.066327\n",
       "Name: time_in_hospital, dtype: float64"
      ]
     },
     "execution_count": 36,
     "metadata": {},
     "output_type": "execute_result"
    }
   ],
   "source": [
    "df_clean_AfricanAmerican.groupby(['metformin'])['time_in_hospital'].mean()"
   ]
  },
  {
   "cell_type": "code",
   "execution_count": 37,
   "metadata": {},
   "outputs": [
    {
     "data": {
      "text/plain": [
       "metformin\n",
       "Down      5.750000\n",
       "No        4.083673\n",
       "Steady    3.472222\n",
       "Up        3.666667\n",
       "Name: time_in_hospital, dtype: float64"
      ]
     },
     "execution_count": 37,
     "metadata": {},
     "output_type": "execute_result"
    }
   ],
   "source": [
    "df_clean_Asian.groupby(['metformin'])['time_in_hospital'].mean()"
   ]
  },
  {
   "cell_type": "code",
   "execution_count": 38,
   "metadata": {},
   "outputs": [
    {
     "data": {
      "text/plain": [
       "metformin\n",
       "Down      5.155660\n",
       "No        4.452112\n",
       "Steady    4.374310\n",
       "Up        5.538765\n",
       "Name: time_in_hospital, dtype: float64"
      ]
     },
     "execution_count": 38,
     "metadata": {},
     "output_type": "execute_result"
    }
   ],
   "source": [
    "df_clean_Caucasian.groupby(['metformin'])['time_in_hospital'].mean()"
   ]
  },
  {
   "cell_type": "code",
   "execution_count": 39,
   "metadata": {},
   "outputs": [
    {
     "data": {
      "text/plain": [
       "metformin\n",
       "Down      3.812500\n",
       "No        4.199724\n",
       "Steady    3.807692\n",
       "Up        5.142857\n",
       "Name: time_in_hospital, dtype: float64"
      ]
     },
     "execution_count": 39,
     "metadata": {},
     "output_type": "execute_result"
    }
   ],
   "source": [
    "df_clean_Hispanic.groupby(['metformin'])['time_in_hospital'].mean()"
   ]
  },
  {
   "cell_type": "markdown",
   "metadata": {},
   "source": [
    "#### Decreasing or maintaining metformin seems shorten length of stay for Hispanics which is different than our overall dataset"
   ]
  },
  {
   "cell_type": "code",
   "execution_count": 40,
   "metadata": {},
   "outputs": [
    {
     "data": {
      "text/plain": [
       "glipizide\n",
       "Down      6.265060\n",
       "No        4.569779\n",
       "Steady    4.382452\n",
       "Up        6.606061\n",
       "Name: time_in_hospital, dtype: float64"
      ]
     },
     "execution_count": 40,
     "metadata": {},
     "output_type": "execute_result"
    }
   ],
   "source": [
    "df_clean_AfricanAmerican.groupby(['glipizide'])['time_in_hospital'].mean()"
   ]
  },
  {
   "cell_type": "code",
   "execution_count": 41,
   "metadata": {},
   "outputs": [
    {
     "data": {
      "text/plain": [
       "glipizide\n",
       "Down      6.333333\n",
       "No        4.001931\n",
       "Steady    3.618421\n",
       "Up        5.375000\n",
       "Name: time_in_hospital, dtype: float64"
      ]
     },
     "execution_count": 41,
     "metadata": {},
     "output_type": "execute_result"
    }
   ],
   "source": [
    "df_clean_Asian.groupby(['glipizide'])['time_in_hospital'].mean()"
   ]
  },
  {
   "cell_type": "code",
   "execution_count": 42,
   "metadata": {},
   "outputs": [
    {
     "data": {
      "text/plain": [
       "glipizide\n",
       "Down      5.859903\n",
       "No        4.432622\n",
       "Steady    4.428114\n",
       "Up        6.181648\n",
       "Name: time_in_hospital, dtype: float64"
      ]
     },
     "execution_count": 42,
     "metadata": {},
     "output_type": "execute_result"
    }
   ],
   "source": [
    "df_clean_Caucasian.groupby(['glipizide'])['time_in_hospital'].mean()"
   ]
  },
  {
   "cell_type": "code",
   "execution_count": 43,
   "metadata": {},
   "outputs": [
    {
     "data": {
      "text/plain": [
       "glipizide\n",
       "Down      5.153846\n",
       "No        4.045208\n",
       "Steady    4.402913\n",
       "Up        6.241379\n",
       "Name: time_in_hospital, dtype: float64"
      ]
     },
     "execution_count": 43,
     "metadata": {},
     "output_type": "execute_result"
    }
   ],
   "source": [
    "df_clean_Hispanic.groupby(['glipizide'])['time_in_hospital'].mean()"
   ]
  },
  {
   "cell_type": "code",
   "execution_count": 44,
   "metadata": {},
   "outputs": [
    {
     "data": {
      "text/plain": [
       "insulin\n",
       "Down      4.919362\n",
       "No        4.318889\n",
       "Steady    4.503727\n",
       "Up        5.364736\n",
       "Name: time_in_hospital, dtype: float64"
      ]
     },
     "execution_count": 44,
     "metadata": {},
     "output_type": "execute_result"
    }
   ],
   "source": [
    "df_clean_AfricanAmerican.groupby(['insulin'])['time_in_hospital'].mean()"
   ]
  },
  {
   "cell_type": "code",
   "execution_count": 45,
   "metadata": {},
   "outputs": [
    {
     "data": {
      "text/plain": [
       "insulin\n",
       "Down      5.163934\n",
       "No        3.403727\n",
       "Steady    4.093960\n",
       "Up        5.328767\n",
       "Name: time_in_hospital, dtype: float64"
      ]
     },
     "execution_count": 45,
     "metadata": {},
     "output_type": "execute_result"
    }
   ],
   "source": [
    "df_clean_Asian.groupby(['insulin'])['time_in_hospital'].mean()"
   ]
  },
  {
   "cell_type": "code",
   "execution_count": 46,
   "metadata": {},
   "outputs": [
    {
     "data": {
      "text/plain": [
       "insulin\n",
       "Down      5.088815\n",
       "No        4.103991\n",
       "Steady    4.428888\n",
       "Up        5.431573\n",
       "Name: time_in_hospital, dtype: float64"
      ]
     },
     "execution_count": 46,
     "metadata": {},
     "output_type": "execute_result"
    }
   ],
   "source": [
    "df_clean_Caucasian.groupby(['insulin'])['time_in_hospital'].mean()"
   ]
  },
  {
   "cell_type": "code",
   "execution_count": 47,
   "metadata": {},
   "outputs": [
    {
     "data": {
      "text/plain": [
       "insulin\n",
       "Down      4.874477\n",
       "No        3.806342\n",
       "Steady    4.007273\n",
       "Up        4.834043\n",
       "Name: time_in_hospital, dtype: float64"
      ]
     },
     "execution_count": 47,
     "metadata": {},
     "output_type": "execute_result"
    }
   ],
   "source": [
    "df_clean_Hispanic.groupby(['insulin'])['time_in_hospital'].mean()"
   ]
  },
  {
   "cell_type": "markdown",
   "metadata": {},
   "source": [
    "#### I didn't see any other signficantly different findings "
   ]
  },
  {
   "cell_type": "code",
   "execution_count": null,
   "metadata": {},
   "outputs": [],
   "source": []
  }
 ],
 "metadata": {
  "kernelspec": {
   "display_name": "Python 3",
   "language": "python",
   "name": "python3"
  },
  "language_info": {
   "codemirror_mode": {
    "name": "ipython",
    "version": 3
   },
   "file_extension": ".py",
   "mimetype": "text/x-python",
   "name": "python",
   "nbconvert_exporter": "python",
   "pygments_lexer": "ipython3",
   "version": "3.7.6"
  }
 },
 "nbformat": 4,
 "nbformat_minor": 4
}
